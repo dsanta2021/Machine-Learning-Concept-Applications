{
 "cells": [
  {
   "cell_type": "markdown",
   "metadata": {},
   "source": [
    "# Linear Regression as Maximum Likelihood\n",
    "\n",
    "In this lab, we explore the concept of linear regression in terms of maximum likelihood estimation.\n",
    "\n",
    "We first load some standard libraries and define a function to give us some random data points, for the purposes of example."
   ]
  },
  {
   "cell_type": "code",
   "execution_count": 1,
   "metadata": {},
   "outputs": [],
   "source": [
    "import numpy as np\n",
    "import matplotlib.pyplot as plt\n",
    "from sklearn.model_selection import train_test_split\n",
    "%matplotlib inline\n",
    "\n",
    "def random_data(beta, n, std_dev, maxval=100):\n",
    "\n",
    "    # Generate x as an array of `n` samples which can take a value between 0 and 100\n",
    "    x = np.random.rand(n) * maxval\n",
    "    \n",
    "    # Generate the random error of n samples, with a random value from a normal distribution, with a standard\n",
    "    # deviation provided in the function argument\n",
    "    e = np.random.randn(n) * std_dev\n",
    "    \n",
    "    # Calculate `y` according to the equation discussed\n",
    "    y = x * beta + e\n",
    "    return x, y "
   ]
  },
  {
   "cell_type": "markdown",
   "metadata": {},
   "source": [
    "Let's take a look at the random data."
   ]
  },
  {
   "cell_type": "code",
   "execution_count": 2,
   "metadata": {},
   "outputs": [
    {
     "data": {
      "image/png": "[encoded data removed]",
      "text/plain": [
       "<Figure size 432x288 with 1 Axes>"
      ]
     },
     "metadata": {
      "needs_background": "light"
     },
     "output_type": "display_data"
    }
   ],
   "source": [
    "x,y = random_data(10, 50, 100)\n",
    "plt.xlabel('X')\n",
    "plt.ylabel('Y')\n",
    "plt.scatter(x,y)\n",
    "plt.show()"
   ]
  },
  {
   "cell_type": "markdown",
   "metadata": {},
   "source": [
    "We use the scikit-learn function to split our data into a test and training set, with the test set being 33% of the total dataset."
   ]
  },
  {
   "cell_type": "code",
   "execution_count": 3,
   "metadata": {},
   "outputs": [
    {
     "name": "stdout",
     "output_type": "stream",
     "text": [
      "Size of train sample:  33\n",
      "Size of test sample:  17\n"
     ]
    }
   ],
   "source": [
    "X_train, X_test, y_train, y_test = train_test_split(x,y,test_size=0.33, random_state=42)\n",
    "\n",
    "print(\"Size of train sample: \", len(X_train))\n",
    "print(\"Size of test sample: \", len(X_test))"
   ]
  },
  {
   "cell_type": "markdown",
   "metadata": {},
   "source": [
    "Given the dataset, we now maximize the log likelihood for observing $x$ and $y$, subject to the parameters $m$ and $b$.  The likelihood function is expressed as:\n",
    "\n",
    "$$\\prod_{i=0}^N \\frac{1}{\\sigma\\sqrt{2\\pi}}\\exp\\left(-\\frac{1}{2\\sigma^2}(y_i - \\theta^T x_i)^2\\right)$$\n",
    "\n",
    "Taking a log on the above yields:\n",
    "\n",
    "$$- \\frac{N}{2}\\log(2\\sigma^2\\pi) - \\frac{1}{2\\sigma^2} \\sum_{i=0}^N  (y_i - \\theta^T x_i)^2$$\n",
    "\n",
    "Removing terms that don't depend on the parameters and reversing signs produces the following simplified term that we aim to minimize with respect to the parameter $\\theta$ (in this case $m$ and $b$):\n",
    "\n",
    "$$\\frac{1}{2\\sigma^2} \\sum_{i=0}^N  (y_i - \\theta^T x_i)^2$$\n",
    "\n",
    "(The minimization algorithm is described [here](https://en.wikipedia.org/wiki/Limited-memory_BFGS), in case you want to read more about it.)"
   ]
  },
  {
   "cell_type": "code",
   "execution_count": 4,
   "metadata": {},
   "outputs": [
    {
     "data": {
      "image/png": "[encoded data removed]",
      "text/plain": [
       "<Figure size 432x288 with 1 Axes>"
      ]
     },
     "metadata": {
      "needs_background": "light"
     },
     "output_type": "display_data"
    }
   ],
   "source": [
    "from scipy.optimize import minimize\n",
    "\n",
    "# A simplified computation of the negative log likelihood, based on the derivation above.\n",
    "\n",
    "def negative_ll(theta):\n",
    "    (m, b, sigma) = theta\n",
    "\n",
    "    y  = m*X_train + b  \n",
    "    \n",
    "    # Exponent from log likelihood that we are trying to maximize\n",
    "    # We negate the term so that we can minimize it.\n",
    "    L = (1 / (2 * sigma ** 2) * sum((y - y_train) ** 2))\n",
    "    return L\n",
    "\n",
    "\n",
    "# minimuze \n",
    "MLE = minimize(negative_ll, np.array([1,1,1]), method='L-BFGS-B')\n",
    "\n",
    "(m, b, sigma) = MLE['x']\n",
    "\n",
    "plt.scatter(X_train,y_train)\n",
    "plt.plot(x, m*x + b)\n",
    "plt.show()"
   ]
  }
 ],
 "metadata": {
  "kernelspec": {
   "display_name": "Python 3 (ipykernel)",
   "language": "python",
   "name": "python3"
  },
  "language_info": {
   "codemirror_mode": {
    "name": "ipython",
    "version": 3
   },
   "file_extension": ".py",
   "mimetype": "text/x-python",
   "name": "python",
   "nbconvert_exporter": "python",
   "pygments_lexer": "ipython3",
   "version": "3.12.7"
  }
 },
 "nbformat": 4,
 "nbformat_minor": 4
}
