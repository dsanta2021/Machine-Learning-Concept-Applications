{
 "cells": [
  {
   "cell_type": "markdown",
   "id": "3b052ced-49a5-435a-89c7-41074ef720bb",
   "metadata": {},
   "source": [
    "# Lecture 1b. Data Exploration Primer\n",
    "\n",
    "Here we will explore the basics of Pandas with an example dataset from the Chicago Data Portal at https://data.cityofchicago.org. You should take some time to explore the portal and find your own datasets of interest to explore!\n",
    "\n",
    "Recall from the first notebook that you can use the Pandas load_csv function. We've included that here but commented out that line and have loaded a local file instead to allow "
   ]
  },
  {
   "cell_type": "code",
   "execution_count": 55,
   "id": "ffb20e20-8511-4dbf-a714-5c3995a8a64e",
   "metadata": {},
   "outputs": [],
   "source": [
    "import pandas as pd\n",
    "\n",
    "# Use this line as an example to load data directly from the City of Chicago Portal.\n",
    "df = pd.read_csv('https://data.cityofchicago.org/api/views/5neh-572f/rows.csv?accessType=DOWNLOAD')\n",
    "\n",
    "# We have saved the file locally so that you can load the file locally.\n",
    "# df = pd.read_csv('/cta-ridership.csv')"
   ]
  },
  {
   "cell_type": "code",
   "execution_count": 56,
   "id": "21c4918a-a9cd-46e0-9734-b2a094366400",
   "metadata": {},
   "outputs": [
    {
     "data": {
      "text/html": [
       "<div>\n",
       "<style scoped>\n",
       "    .dataframe tbody tr th:only-of-type {\n",
       "        vertical-align: middle;\n",
       "    }\n",
       "\n",
       "    .dataframe tbody tr th {\n",
       "        vertical-align: top;\n",
       "    }\n",
       "\n",
       "    .dataframe thead th {\n",
       "        text-align: right;\n",
       "    }\n",
       "</style>\n",
       "<table border=\"1\" class=\"dataframe\">\n",
       "  <thead>\n",
       "    <tr style=\"text-align: right;\">\n",
       "      <th></th>\n",
       "      <th>station_id</th>\n",
       "      <th>stationname</th>\n",
       "      <th>date</th>\n",
       "      <th>daytype</th>\n",
       "      <th>rides</th>\n",
       "    </tr>\n",
       "  </thead>\n",
       "  <tbody>\n",
       "    <tr>\n",
       "      <th>0</th>\n",
       "      <td>41280</td>\n",
       "      <td>Jefferson Park</td>\n",
       "      <td>12/22/2017</td>\n",
       "      <td>W</td>\n",
       "      <td>6104</td>\n",
       "    </tr>\n",
       "    <tr>\n",
       "      <th>1</th>\n",
       "      <td>41000</td>\n",
       "      <td>Cermak-Chinatown</td>\n",
       "      <td>12/18/2017</td>\n",
       "      <td>W</td>\n",
       "      <td>3636</td>\n",
       "    </tr>\n",
       "    <tr>\n",
       "      <th>2</th>\n",
       "      <td>40280</td>\n",
       "      <td>Central-Lake</td>\n",
       "      <td>12/02/2017</td>\n",
       "      <td>A</td>\n",
       "      <td>1270</td>\n",
       "    </tr>\n",
       "    <tr>\n",
       "      <th>3</th>\n",
       "      <td>40140</td>\n",
       "      <td>Dempster-Skokie</td>\n",
       "      <td>12/19/2017</td>\n",
       "      <td>W</td>\n",
       "      <td>1759</td>\n",
       "    </tr>\n",
       "    <tr>\n",
       "      <th>4</th>\n",
       "      <td>40690</td>\n",
       "      <td>Dempster</td>\n",
       "      <td>12/03/2017</td>\n",
       "      <td>U</td>\n",
       "      <td>499</td>\n",
       "    </tr>\n",
       "  </tbody>\n",
       "</table>\n",
       "</div>"
      ],
      "text/plain": [
       "   station_id       stationname        date daytype  rides\n",
       "0       41280    Jefferson Park  12/22/2017       W   6104\n",
       "1       41000  Cermak-Chinatown  12/18/2017       W   3636\n",
       "2       40280      Central-Lake  12/02/2017       A   1270\n",
       "3       40140   Dempster-Skokie  12/19/2017       W   1759\n",
       "4       40690          Dempster  12/03/2017       U    499"
      ]
     },
     "execution_count": 56,
     "metadata": {},
     "output_type": "execute_result"
    }
   ],
   "source": [
    "df.head(5)"
   ]
  },
  {
   "cell_type": "markdown",
   "id": "057746b4-4f5c-4d42-81af-118bdcb2952a",
   "metadata": {},
   "source": [
    "Immediately from looking at this, we can get an understanding of the type of data we're looking at.  There's a station identifier and name, a date on which the statistic takes place, the day type, and the number of rides for that date.\n",
    "\n",
    "It's not immediately clear what A/W, is, but looking at the description of the dataset here:\n",
    "https://data.cityofchicago.org/Transportation/CTA-Ridership-L-Station-Entries-Daily-Totals/5neh-572f\n",
    "\n",
    "tells us that this column indicates that we are looking at a weekday, weekend, or holiday.\n",
    "\n",
    "We can then explore some basic characteristics of the data, including the size of the dataset, min/max/etc. to explore outliers, etc. This basic exploration allows us to spot potential outliers and mistakes in the data.\n",
    "\n",
    "### What are some basic statistics about the data?"
   ]
  },
  {
   "cell_type": "code",
   "execution_count": 57,
   "id": "0403c1a8-b010-4365-840b-10d2717ccade",
   "metadata": {},
   "outputs": [
    {
     "data": {
      "text/plain": [
       "(1232735, 5)"
      ]
     },
     "execution_count": 57,
     "metadata": {},
     "output_type": "execute_result"
    }
   ],
   "source": [
    "df.shape"
   ]
  },
  {
   "cell_type": "code",
   "execution_count": 58,
   "id": "f00bb0ee-fbb9-4e59-bd75-035151dff8a6",
   "metadata": {},
   "outputs": [
    {
     "data": {
      "text/html": [
       "<div>\n",
       "<style scoped>\n",
       "    .dataframe tbody tr th:only-of-type {\n",
       "        vertical-align: middle;\n",
       "    }\n",
       "\n",
       "    .dataframe tbody tr th {\n",
       "        vertical-align: top;\n",
       "    }\n",
       "\n",
       "    .dataframe thead th {\n",
       "        text-align: right;\n",
       "    }\n",
       "</style>\n",
       "<table border=\"1\" class=\"dataframe\">\n",
       "  <thead>\n",
       "    <tr style=\"text-align: right;\">\n",
       "      <th></th>\n",
       "      <th>station_id</th>\n",
       "      <th>rides</th>\n",
       "    </tr>\n",
       "  </thead>\n",
       "  <tbody>\n",
       "    <tr>\n",
       "      <th>count</th>\n",
       "      <td>1.232735e+06</td>\n",
       "      <td>1.232735e+06</td>\n",
       "    </tr>\n",
       "    <tr>\n",
       "      <th>mean</th>\n",
       "      <td>4.076793e+04</td>\n",
       "      <td>2.979097e+03</td>\n",
       "    </tr>\n",
       "    <tr>\n",
       "      <th>std</th>\n",
       "      <td>4.499409e+02</td>\n",
       "      <td>3.061730e+03</td>\n",
       "    </tr>\n",
       "    <tr>\n",
       "      <th>min</th>\n",
       "      <td>4.001000e+04</td>\n",
       "      <td>0.000000e+00</td>\n",
       "    </tr>\n",
       "    <tr>\n",
       "      <th>25%</th>\n",
       "      <td>4.037000e+04</td>\n",
       "      <td>9.330000e+02</td>\n",
       "    </tr>\n",
       "    <tr>\n",
       "      <th>50%</th>\n",
       "      <td>4.076000e+04</td>\n",
       "      <td>1.940000e+03</td>\n",
       "    </tr>\n",
       "    <tr>\n",
       "      <th>75%</th>\n",
       "      <td>4.116000e+04</td>\n",
       "      <td>3.918000e+03</td>\n",
       "    </tr>\n",
       "    <tr>\n",
       "      <th>max</th>\n",
       "      <td>4.171000e+04</td>\n",
       "      <td>3.632300e+04</td>\n",
       "    </tr>\n",
       "  </tbody>\n",
       "</table>\n",
       "</div>"
      ],
      "text/plain": [
       "         station_id         rides\n",
       "count  1.232735e+06  1.232735e+06\n",
       "mean   4.076793e+04  2.979097e+03\n",
       "std    4.499409e+02  3.061730e+03\n",
       "min    4.001000e+04  0.000000e+00\n",
       "25%    4.037000e+04  9.330000e+02\n",
       "50%    4.076000e+04  1.940000e+03\n",
       "75%    4.116000e+04  3.918000e+03\n",
       "max    4.171000e+04  3.632300e+04"
      ]
     },
     "execution_count": 58,
     "metadata": {},
     "output_type": "execute_result"
    }
   ],
   "source": [
    "df.describe()"
   ]
  },
  {
   "cell_type": "markdown",
   "id": "4feb3580-4c24-4e77-bc3f-c8d590bb2b72",
   "metadata": {},
   "source": [
    "Some basic statistics: There is a station with no rides (minimum is zero!). Also, the station with the maximum number of rides appears to be about 10x the mean and median. Let's have a look at what those stations are."
   ]
  },
  {
   "cell_type": "code",
   "execution_count": 25,
   "id": "754445e1-7be4-48f2-b5b9-14e09eab5357",
   "metadata": {},
   "outputs": [
    {
     "data": {
      "text/plain": [
       "stationname\n",
       "Racine                    8664\n",
       "Montrose-Brown            8662\n",
       "Western-Forest Park       8661\n",
       "Monroe/Dearborn           8661\n",
       "Montrose-O'Hare           8660\n",
       "                          ... \n",
       "Cermak-McCormick Place    3531\n",
       "Washington/State          2953\n",
       "Washington/Wabash         2588\n",
       "Damen-Lake                  62\n",
       "Homan                       31\n",
       "Name: count, Length: 149, dtype: int64"
      ]
     },
     "execution_count": 25,
     "metadata": {},
     "output_type": "execute_result"
    }
   ],
   "source": [
    "df['stationname'].value_counts()"
   ]
  },
  {
   "cell_type": "markdown",
   "id": "ad23bdf5-bc0f-4351-bf3e-450923fb8caf",
   "metadata": {},
   "source": [
    "### Selection Based on Conditionals"
   ]
  },
  {
   "cell_type": "markdown",
   "id": "7292ee8b-3d02-4b50-92f7-11eb5231f6c7",
   "metadata": {},
   "source": [
    "Let's see which stations have the most and fewest rides, overall, and for particular types of days."
   ]
  },
  {
   "cell_type": "markdown",
   "id": "14e3eb2b-2576-453d-af9f-5bc7ad065281",
   "metadata": {},
   "source": [
    "#### Station with the most rides"
   ]
  },
  {
   "cell_type": "code",
   "execution_count": 29,
   "id": "85bb4e1e-cacd-4cd5-9e81-2eddbd93536b",
   "metadata": {},
   "outputs": [
    {
     "data": {
      "text/html": [
       "<div>\n",
       "<style scoped>\n",
       "    .dataframe tbody tr th:only-of-type {\n",
       "        vertical-align: middle;\n",
       "    }\n",
       "\n",
       "    .dataframe tbody tr th {\n",
       "        vertical-align: top;\n",
       "    }\n",
       "\n",
       "    .dataframe thead th {\n",
       "        text-align: right;\n",
       "    }\n",
       "</style>\n",
       "<table border=\"1\" class=\"dataframe\">\n",
       "  <thead>\n",
       "    <tr style=\"text-align: right;\">\n",
       "      <th></th>\n",
       "      <th>station_id</th>\n",
       "      <th>stationname</th>\n",
       "      <th>date</th>\n",
       "      <th>daytype</th>\n",
       "      <th>rides</th>\n",
       "    </tr>\n",
       "  </thead>\n",
       "  <tbody>\n",
       "    <tr>\n",
       "      <th>912644</th>\n",
       "      <td>41320</td>\n",
       "      <td>Belmont-North Main</td>\n",
       "      <td>06/28/2015</td>\n",
       "      <td>U</td>\n",
       "      <td>36323</td>\n",
       "    </tr>\n",
       "  </tbody>\n",
       "</table>\n",
       "</div>"
      ],
      "text/plain": [
       "        station_id         stationname        date daytype  rides\n",
       "912644       41320  Belmont-North Main  06/28/2015       U  36323"
      ]
     },
     "execution_count": 29,
     "metadata": {},
     "output_type": "execute_result"
    }
   ],
   "source": [
    "df[df['rides'] == max(df['rides'])].head(1)"
   ]
  },
  {
   "cell_type": "markdown",
   "id": "c4ce08d6-684f-4877-a3f6-dc62e02c5680",
   "metadata": {},
   "source": [
    "Interesting. The station that had the most number of rides was Belmont-North, on June 28, 2015. What might have caused that? (Hint: Do a quick Web search for June 28, 2015 to find out what happened on that date in Chicago.)\n",
    "\n",
    "#### Station with the Least Rides"
   ]
  },
  {
   "cell_type": "code",
   "execution_count": 31,
   "id": "1a55f605-978d-4128-9fbf-c8b351263ee1",
   "metadata": {},
   "outputs": [
    {
     "data": {
      "text/plain": [
       "(14805, 5)"
      ]
     },
     "execution_count": 31,
     "metadata": {},
     "output_type": "execute_result"
    }
   ],
   "source": [
    "df[df['rides'] == 0].shape"
   ]
  },
  {
   "cell_type": "markdown",
   "id": "a9a2f8df-b01e-40da-b5e1-4bc9dace6c88",
   "metadata": {},
   "source": [
    "Oops! There are 14805 station-date combinations with zero rides! Let's have a quick look to understand this further."
   ]
  },
  {
   "cell_type": "code",
   "execution_count": 89,
   "id": "cf79966a-3724-48b7-89a3-138542ff59be",
   "metadata": {},
   "outputs": [
    {
     "data": {
      "text/html": [
       "<div>\n",
       "<style scoped>\n",
       "    .dataframe tbody tr th:only-of-type {\n",
       "        vertical-align: middle;\n",
       "    }\n",
       "\n",
       "    .dataframe tbody tr th {\n",
       "        vertical-align: top;\n",
       "    }\n",
       "\n",
       "    .dataframe thead th {\n",
       "        text-align: right;\n",
       "    }\n",
       "</style>\n",
       "<table border=\"1\" class=\"dataframe\">\n",
       "  <thead>\n",
       "    <tr style=\"text-align: right;\">\n",
       "      <th></th>\n",
       "      <th>station_id</th>\n",
       "      <th>stationname</th>\n",
       "      <th>date</th>\n",
       "      <th>daytype</th>\n",
       "      <th>rides</th>\n",
       "    </tr>\n",
       "  </thead>\n",
       "  <tbody>\n",
       "    <tr>\n",
       "      <th>23</th>\n",
       "      <td>40200</td>\n",
       "      <td>Randolph/Wabash</td>\n",
       "      <td>12/25/2017</td>\n",
       "      <td>U</td>\n",
       "      <td>0</td>\n",
       "    </tr>\n",
       "    <tr>\n",
       "      <th>110</th>\n",
       "      <td>40640</td>\n",
       "      <td>Madison/Wabash</td>\n",
       "      <td>12/05/2017</td>\n",
       "      <td>W</td>\n",
       "      <td>0</td>\n",
       "    </tr>\n",
       "    <tr>\n",
       "      <th>333</th>\n",
       "      <td>40640</td>\n",
       "      <td>Madison/Wabash</td>\n",
       "      <td>12/03/2017</td>\n",
       "      <td>U</td>\n",
       "      <td>0</td>\n",
       "    </tr>\n",
       "    <tr>\n",
       "      <th>354</th>\n",
       "      <td>40640</td>\n",
       "      <td>Madison/Wabash</td>\n",
       "      <td>12/11/2017</td>\n",
       "      <td>W</td>\n",
       "      <td>0</td>\n",
       "    </tr>\n",
       "    <tr>\n",
       "      <th>423</th>\n",
       "      <td>40640</td>\n",
       "      <td>Madison/Wabash</td>\n",
       "      <td>12/30/2017</td>\n",
       "      <td>A</td>\n",
       "      <td>0</td>\n",
       "    </tr>\n",
       "  </tbody>\n",
       "</table>\n",
       "</div>"
      ],
      "text/plain": [
       "     station_id      stationname        date daytype  rides\n",
       "23        40200  Randolph/Wabash  12/25/2017       U      0\n",
       "110       40640   Madison/Wabash  12/05/2017       W      0\n",
       "333       40640   Madison/Wabash  12/03/2017       U      0\n",
       "354       40640   Madison/Wabash  12/11/2017       W      0\n",
       "423       40640   Madison/Wabash  12/30/2017       A      0"
      ]
     },
     "execution_count": 89,
     "metadata": {},
     "output_type": "execute_result"
    }
   ],
   "source": [
    "zero = df[df['rides'] == 0]\n",
    "zero.head(5)"
   ]
  },
  {
   "cell_type": "markdown",
   "id": "b4dbcdd1-b28a-4250-8b42-c60ab6e9cd08",
   "metadata": {},
   "source": [
    "Looks like a lot of weekends and holidays. We can group by columns and types to get a better understanding of what might be going on. We can count how many dates a station had zero rides in the dataset and sort these in descending order."
   ]
  },
  {
   "cell_type": "code",
   "execution_count": 35,
   "id": "cd62c32b-4b3a-43e0-a435-2310c111042f",
   "metadata": {},
   "outputs": [
    {
     "data": {
      "text/html": [
       "<div>\n",
       "<style scoped>\n",
       "    .dataframe tbody tr th:only-of-type {\n",
       "        vertical-align: middle;\n",
       "    }\n",
       "\n",
       "    .dataframe tbody tr th {\n",
       "        vertical-align: top;\n",
       "    }\n",
       "\n",
       "    .dataframe thead th {\n",
       "        text-align: right;\n",
       "    }\n",
       "</style>\n",
       "<table border=\"1\" class=\"dataframe\">\n",
       "  <thead>\n",
       "    <tr style=\"text-align: right;\">\n",
       "      <th></th>\n",
       "      <th></th>\n",
       "      <th>station_id</th>\n",
       "      <th>date</th>\n",
       "      <th>rides</th>\n",
       "    </tr>\n",
       "    <tr>\n",
       "      <th>stationname</th>\n",
       "      <th>daytype</th>\n",
       "      <th></th>\n",
       "      <th></th>\n",
       "      <th></th>\n",
       "    </tr>\n",
       "  </thead>\n",
       "  <tbody>\n",
       "    <tr>\n",
       "      <th>Lawrence</th>\n",
       "      <th>W</th>\n",
       "      <td>866</td>\n",
       "      <td>866</td>\n",
       "      <td>866</td>\n",
       "    </tr>\n",
       "    <tr>\n",
       "      <th>Berwyn</th>\n",
       "      <th>W</th>\n",
       "      <td>866</td>\n",
       "      <td>866</td>\n",
       "      <td>866</td>\n",
       "    </tr>\n",
       "    <tr>\n",
       "      <th>Madison/Wabash</th>\n",
       "      <th>W</th>\n",
       "      <td>711</td>\n",
       "      <td>711</td>\n",
       "      <td>711</td>\n",
       "    </tr>\n",
       "    <tr>\n",
       "      <th>Washington/State</th>\n",
       "      <th>W</th>\n",
       "      <td>516</td>\n",
       "      <td>516</td>\n",
       "      <td>516</td>\n",
       "    </tr>\n",
       "    <tr>\n",
       "      <th>Skokie</th>\n",
       "      <th>U</th>\n",
       "      <td>390</td>\n",
       "      <td>390</td>\n",
       "      <td>390</td>\n",
       "    </tr>\n",
       "    <tr>\n",
       "      <th>...</th>\n",
       "      <th>...</th>\n",
       "      <td>...</td>\n",
       "      <td>...</td>\n",
       "      <td>...</td>\n",
       "    </tr>\n",
       "    <tr>\n",
       "      <th>Chicago/Franklin</th>\n",
       "      <th>W</th>\n",
       "      <td>1</td>\n",
       "      <td>1</td>\n",
       "      <td>1</td>\n",
       "    </tr>\n",
       "    <tr>\n",
       "      <th>Ashland-Lake</th>\n",
       "      <th>W</th>\n",
       "      <td>1</td>\n",
       "      <td>1</td>\n",
       "      <td>1</td>\n",
       "    </tr>\n",
       "    <tr>\n",
       "      <th>Skokie</th>\n",
       "      <th>W</th>\n",
       "      <td>1</td>\n",
       "      <td>1</td>\n",
       "      <td>1</td>\n",
       "    </tr>\n",
       "    <tr>\n",
       "      <th>Addison-O'Hare</th>\n",
       "      <th>A</th>\n",
       "      <td>1</td>\n",
       "      <td>1</td>\n",
       "      <td>1</td>\n",
       "    </tr>\n",
       "    <tr>\n",
       "      <th>51st</th>\n",
       "      <th>U</th>\n",
       "      <td>1</td>\n",
       "      <td>1</td>\n",
       "      <td>1</td>\n",
       "    </tr>\n",
       "  </tbody>\n",
       "</table>\n",
       "<p>272 rows × 3 columns</p>\n",
       "</div>"
      ],
      "text/plain": [
       "                          station_id  date  rides\n",
       "stationname      daytype                         \n",
       "Lawrence         W               866   866    866\n",
       "Berwyn           W               866   866    866\n",
       "Madison/Wabash   W               711   711    711\n",
       "Washington/State W               516   516    516\n",
       "Skokie           U               390   390    390\n",
       "...                              ...   ...    ...\n",
       "Chicago/Franklin W                 1     1      1\n",
       "Ashland-Lake     W                 1     1      1\n",
       "Skokie           W                 1     1      1\n",
       "Addison-O'Hare   A                 1     1      1\n",
       "51st             U                 1     1      1\n",
       "\n",
       "[272 rows x 3 columns]"
      ]
     },
     "execution_count": 35,
     "metadata": {},
     "output_type": "execute_result"
    }
   ],
   "source": [
    "zerogroups = zero.groupby(['stationname','daytype']).count()\n",
    "zerogroups.sort_values(by=['date'],ascending=False)"
   ]
  },
  {
   "cell_type": "markdown",
   "id": "2d8cc145-6433-4bba-88cc-940add0af64f",
   "metadata": {},
   "source": [
    "**Note:** It should be clear from a little bit of research why some of the stations at the top of the list report zero dates. Do a little homework on some of them to find out!"
   ]
  },
  {
   "cell_type": "markdown",
   "id": "f84c9b7b-8363-4abe-a7f5-d4393966f2d7",
   "metadata": {},
   "source": [
    "### Exploring Temporal Patterns"
   ]
  },
  {
   "cell_type": "markdown",
   "id": "9654474e-194c-4b4d-a320-2dafea3cd795",
   "metadata": {},
   "source": [
    "First, let's figure out the date range that we're dealing with."
   ]
  },
  {
   "cell_type": "code",
   "execution_count": 39,
   "id": "58278ff0-225f-4084-9776-7d9b6fd5a62c",
   "metadata": {},
   "outputs": [
    {
     "data": {
      "text/plain": [
       "'01/01/2001'"
      ]
     },
     "execution_count": 39,
     "metadata": {},
     "output_type": "execute_result"
    }
   ],
   "source": [
    "min(df['date'])"
   ]
  },
  {
   "cell_type": "code",
   "execution_count": 40,
   "id": "4e9083e1-3367-41ff-b6aa-4a8bfd419ac1",
   "metadata": {},
   "outputs": [
    {
     "data": {
      "text/plain": [
       "'12/31/2023'"
      ]
     },
     "execution_count": 40,
     "metadata": {},
     "output_type": "execute_result"
    }
   ],
   "source": [
    "max(df['date'])"
   ]
  },
  {
   "cell_type": "markdown",
   "id": "e53d89f5-6b26-464b-805e-f937045f679c",
   "metadata": {},
   "source": [
    "#### Create a Time Index\n",
    "\n",
    "So we have all rides from January 1, 2001 to December 31, 2019. Let's do some statistics that group ride statistics by date. First we need to tell Pandas that the date column is in fact a date. So, we convert the column to a proper 'DateTime' type, and then set the index to this column.\n",
    "\n",
    "This step takes a little bit of time!"
   ]
  },
  {
   "cell_type": "code",
   "execution_count": 42,
   "id": "29911b71-c2c0-4f80-af42-366bc9623b59",
   "metadata": {},
   "outputs": [],
   "source": [
    "df['date'] = pd.to_datetime(df['date'])\n",
    "df.set_index('date', inplace=True)"
   ]
  },
  {
   "cell_type": "markdown",
   "id": "8a807acf-30e9-47e5-b1c7-e4a8631266bb",
   "metadata": {},
   "source": [
    "Let's see what this does to our data. Now we can see that the date column is indexed, but the rows are not sorted."
   ]
  },
  {
   "cell_type": "code",
   "execution_count": 44,
   "id": "9f356986-e9d8-4fb8-bc3a-20dbd4315eb9",
   "metadata": {},
   "outputs": [
    {
     "data": {
      "text/html": [
       "<div>\n",
       "<style scoped>\n",
       "    .dataframe tbody tr th:only-of-type {\n",
       "        vertical-align: middle;\n",
       "    }\n",
       "\n",
       "    .dataframe tbody tr th {\n",
       "        vertical-align: top;\n",
       "    }\n",
       "\n",
       "    .dataframe thead th {\n",
       "        text-align: right;\n",
       "    }\n",
       "</style>\n",
       "<table border=\"1\" class=\"dataframe\">\n",
       "  <thead>\n",
       "    <tr style=\"text-align: right;\">\n",
       "      <th></th>\n",
       "      <th>station_id</th>\n",
       "      <th>stationname</th>\n",
       "      <th>daytype</th>\n",
       "      <th>rides</th>\n",
       "    </tr>\n",
       "    <tr>\n",
       "      <th>date</th>\n",
       "      <th></th>\n",
       "      <th></th>\n",
       "      <th></th>\n",
       "      <th></th>\n",
       "    </tr>\n",
       "  </thead>\n",
       "  <tbody>\n",
       "    <tr>\n",
       "      <th>2017-12-22</th>\n",
       "      <td>41280</td>\n",
       "      <td>Jefferson Park</td>\n",
       "      <td>W</td>\n",
       "      <td>6104</td>\n",
       "    </tr>\n",
       "    <tr>\n",
       "      <th>2017-12-18</th>\n",
       "      <td>41000</td>\n",
       "      <td>Cermak-Chinatown</td>\n",
       "      <td>W</td>\n",
       "      <td>3636</td>\n",
       "    </tr>\n",
       "    <tr>\n",
       "      <th>2017-12-02</th>\n",
       "      <td>40280</td>\n",
       "      <td>Central-Lake</td>\n",
       "      <td>A</td>\n",
       "      <td>1270</td>\n",
       "    </tr>\n",
       "    <tr>\n",
       "      <th>2017-12-19</th>\n",
       "      <td>40140</td>\n",
       "      <td>Dempster-Skokie</td>\n",
       "      <td>W</td>\n",
       "      <td>1759</td>\n",
       "    </tr>\n",
       "    <tr>\n",
       "      <th>2017-12-03</th>\n",
       "      <td>40690</td>\n",
       "      <td>Dempster</td>\n",
       "      <td>U</td>\n",
       "      <td>499</td>\n",
       "    </tr>\n",
       "    <tr>\n",
       "      <th>2017-12-30</th>\n",
       "      <td>41660</td>\n",
       "      <td>Lake/State</td>\n",
       "      <td>A</td>\n",
       "      <td>8615</td>\n",
       "    </tr>\n",
       "    <tr>\n",
       "      <th>2017-12-17</th>\n",
       "      <td>40180</td>\n",
       "      <td>Oak Park-Forest Park</td>\n",
       "      <td>U</td>\n",
       "      <td>442</td>\n",
       "    </tr>\n",
       "    <tr>\n",
       "      <th>2017-12-02</th>\n",
       "      <td>40250</td>\n",
       "      <td>Kedzie-Homan-Forest Park</td>\n",
       "      <td>A</td>\n",
       "      <td>1353</td>\n",
       "    </tr>\n",
       "    <tr>\n",
       "      <th>2017-12-07</th>\n",
       "      <td>40120</td>\n",
       "      <td>35th/Archer</td>\n",
       "      <td>W</td>\n",
       "      <td>3353</td>\n",
       "    </tr>\n",
       "    <tr>\n",
       "      <th>2017-12-19</th>\n",
       "      <td>41420</td>\n",
       "      <td>Addison-North Main</td>\n",
       "      <td>W</td>\n",
       "      <td>6034</td>\n",
       "    </tr>\n",
       "  </tbody>\n",
       "</table>\n",
       "</div>"
      ],
      "text/plain": [
       "            station_id               stationname daytype  rides\n",
       "date                                                           \n",
       "2017-12-22       41280            Jefferson Park       W   6104\n",
       "2017-12-18       41000          Cermak-Chinatown       W   3636\n",
       "2017-12-02       40280              Central-Lake       A   1270\n",
       "2017-12-19       40140           Dempster-Skokie       W   1759\n",
       "2017-12-03       40690                  Dempster       U    499\n",
       "2017-12-30       41660                Lake/State       A   8615\n",
       "2017-12-17       40180      Oak Park-Forest Park       U    442\n",
       "2017-12-02       40250  Kedzie-Homan-Forest Park       A   1353\n",
       "2017-12-07       40120               35th/Archer       W   3353\n",
       "2017-12-19       41420        Addison-North Main       W   6034"
      ]
     },
     "execution_count": 44,
     "metadata": {},
     "output_type": "execute_result"
    }
   ],
   "source": [
    "df.head(10)"
   ]
  },
  {
   "cell_type": "markdown",
   "id": "15748cbd-322c-4de1-91fb-429dcb3e8247",
   "metadata": {},
   "source": [
    "#### Sort the Dataframe by Date"
   ]
  },
  {
   "cell_type": "code",
   "execution_count": 46,
   "id": "fea9f349-9a4b-47a1-b194-58b189ea261e",
   "metadata": {},
   "outputs": [
    {
     "data": {
      "text/html": [
       "<div>\n",
       "<style scoped>\n",
       "    .dataframe tbody tr th:only-of-type {\n",
       "        vertical-align: middle;\n",
       "    }\n",
       "\n",
       "    .dataframe tbody tr th {\n",
       "        vertical-align: top;\n",
       "    }\n",
       "\n",
       "    .dataframe thead th {\n",
       "        text-align: right;\n",
       "    }\n",
       "</style>\n",
       "<table border=\"1\" class=\"dataframe\">\n",
       "  <thead>\n",
       "    <tr style=\"text-align: right;\">\n",
       "      <th></th>\n",
       "      <th>station_id</th>\n",
       "      <th>stationname</th>\n",
       "      <th>daytype</th>\n",
       "      <th>rides</th>\n",
       "    </tr>\n",
       "    <tr>\n",
       "      <th>date</th>\n",
       "      <th></th>\n",
       "      <th></th>\n",
       "      <th></th>\n",
       "      <th></th>\n",
       "    </tr>\n",
       "  </thead>\n",
       "  <tbody>\n",
       "    <tr>\n",
       "      <th>2001-01-01</th>\n",
       "      <td>41120</td>\n",
       "      <td>35-Bronzeville-IIT</td>\n",
       "      <td>U</td>\n",
       "      <td>448</td>\n",
       "    </tr>\n",
       "    <tr>\n",
       "      <th>2001-01-01</th>\n",
       "      <td>40740</td>\n",
       "      <td>Western-Cermak</td>\n",
       "      <td>U</td>\n",
       "      <td>0</td>\n",
       "    </tr>\n",
       "    <tr>\n",
       "      <th>2001-01-01</th>\n",
       "      <td>40370</td>\n",
       "      <td>Washington/Dearborn</td>\n",
       "      <td>U</td>\n",
       "      <td>1039</td>\n",
       "    </tr>\n",
       "    <tr>\n",
       "      <th>2001-01-01</th>\n",
       "      <td>40330</td>\n",
       "      <td>Grand/State</td>\n",
       "      <td>U</td>\n",
       "      <td>2542</td>\n",
       "    </tr>\n",
       "    <tr>\n",
       "      <th>2001-01-01</th>\n",
       "      <td>40350</td>\n",
       "      <td>UIC-Halsted</td>\n",
       "      <td>U</td>\n",
       "      <td>273</td>\n",
       "    </tr>\n",
       "    <tr>\n",
       "      <th>2001-01-01</th>\n",
       "      <td>40220</td>\n",
       "      <td>Western-Forest Park</td>\n",
       "      <td>U</td>\n",
       "      <td>318</td>\n",
       "    </tr>\n",
       "    <tr>\n",
       "      <th>2001-01-01</th>\n",
       "      <td>41330</td>\n",
       "      <td>Montrose-O'Hare</td>\n",
       "      <td>U</td>\n",
       "      <td>383</td>\n",
       "    </tr>\n",
       "    <tr>\n",
       "      <th>2001-01-01</th>\n",
       "      <td>40650</td>\n",
       "      <td>North/Clybourn</td>\n",
       "      <td>U</td>\n",
       "      <td>1156</td>\n",
       "    </tr>\n",
       "    <tr>\n",
       "      <th>2001-01-01</th>\n",
       "      <td>40010</td>\n",
       "      <td>Austin-Forest Park</td>\n",
       "      <td>U</td>\n",
       "      <td>290</td>\n",
       "    </tr>\n",
       "    <tr>\n",
       "      <th>2001-01-01</th>\n",
       "      <td>41090</td>\n",
       "      <td>Monroe/State</td>\n",
       "      <td>U</td>\n",
       "      <td>979</td>\n",
       "    </tr>\n",
       "  </tbody>\n",
       "</table>\n",
       "</div>"
      ],
      "text/plain": [
       "            station_id          stationname daytype  rides\n",
       "date                                                      \n",
       "2001-01-01       41120   35-Bronzeville-IIT       U    448\n",
       "2001-01-01       40740       Western-Cermak       U      0\n",
       "2001-01-01       40370  Washington/Dearborn       U   1039\n",
       "2001-01-01       40330          Grand/State       U   2542\n",
       "2001-01-01       40350          UIC-Halsted       U    273\n",
       "2001-01-01       40220  Western-Forest Park       U    318\n",
       "2001-01-01       41330      Montrose-O'Hare       U    383\n",
       "2001-01-01       40650       North/Clybourn       U   1156\n",
       "2001-01-01       40010   Austin-Forest Park       U    290\n",
       "2001-01-01       41090         Monroe/State       U    979"
      ]
     },
     "execution_count": 46,
     "metadata": {},
     "output_type": "execute_result"
    }
   ],
   "source": [
    "# Sort the columns by date\n",
    "rides_by_date = df.sort_values(by='date')\n",
    "rides_by_date.head(10)"
   ]
  },
  {
   "cell_type": "markdown",
   "id": "123981bf-39e1-40e7-b424-e9a2bd7b14f8",
   "metadata": {},
   "source": [
    "#### Sanity Checking\n",
    "\n",
    "Looks good!  Now let's have a quick look at data for specific stations: the Garfield station at the Red Line and the Green lines, respectively."
   ]
  },
  {
   "cell_type": "code",
   "execution_count": 48,
   "id": "7f39839a-0730-4240-af5d-2bc97488763a",
   "metadata": {},
   "outputs": [
    {
     "data": {
      "text/html": [
       "<div>\n",
       "<style scoped>\n",
       "    .dataframe tbody tr th:only-of-type {\n",
       "        vertical-align: middle;\n",
       "    }\n",
       "\n",
       "    .dataframe tbody tr th {\n",
       "        vertical-align: top;\n",
       "    }\n",
       "\n",
       "    .dataframe thead th {\n",
       "        text-align: right;\n",
       "    }\n",
       "</style>\n",
       "<table border=\"1\" class=\"dataframe\">\n",
       "  <thead>\n",
       "    <tr style=\"text-align: right;\">\n",
       "      <th></th>\n",
       "      <th>station_id</th>\n",
       "      <th>stationname</th>\n",
       "      <th>daytype</th>\n",
       "      <th>rides</th>\n",
       "    </tr>\n",
       "    <tr>\n",
       "      <th>date</th>\n",
       "      <th></th>\n",
       "      <th></th>\n",
       "      <th></th>\n",
       "      <th></th>\n",
       "    </tr>\n",
       "  </thead>\n",
       "  <tbody>\n",
       "    <tr>\n",
       "      <th>2001-01-01</th>\n",
       "      <td>41170</td>\n",
       "      <td>Garfield-Dan Ryan</td>\n",
       "      <td>U</td>\n",
       "      <td>1457</td>\n",
       "    </tr>\n",
       "    <tr>\n",
       "      <th>2001-01-02</th>\n",
       "      <td>41170</td>\n",
       "      <td>Garfield-Dan Ryan</td>\n",
       "      <td>W</td>\n",
       "      <td>3748</td>\n",
       "    </tr>\n",
       "    <tr>\n",
       "      <th>2001-01-03</th>\n",
       "      <td>41170</td>\n",
       "      <td>Garfield-Dan Ryan</td>\n",
       "      <td>W</td>\n",
       "      <td>3977</td>\n",
       "    </tr>\n",
       "    <tr>\n",
       "      <th>2001-01-04</th>\n",
       "      <td>41170</td>\n",
       "      <td>Garfield-Dan Ryan</td>\n",
       "      <td>W</td>\n",
       "      <td>4185</td>\n",
       "    </tr>\n",
       "    <tr>\n",
       "      <th>2001-01-05</th>\n",
       "      <td>41170</td>\n",
       "      <td>Garfield-Dan Ryan</td>\n",
       "      <td>W</td>\n",
       "      <td>4533</td>\n",
       "    </tr>\n",
       "    <tr>\n",
       "      <th>2001-01-06</th>\n",
       "      <td>41170</td>\n",
       "      <td>Garfield-Dan Ryan</td>\n",
       "      <td>A</td>\n",
       "      <td>3341</td>\n",
       "    </tr>\n",
       "    <tr>\n",
       "      <th>2001-01-07</th>\n",
       "      <td>41170</td>\n",
       "      <td>Garfield-Dan Ryan</td>\n",
       "      <td>U</td>\n",
       "      <td>1972</td>\n",
       "    </tr>\n",
       "    <tr>\n",
       "      <th>2001-01-08</th>\n",
       "      <td>41170</td>\n",
       "      <td>Garfield-Dan Ryan</td>\n",
       "      <td>W</td>\n",
       "      <td>4590</td>\n",
       "    </tr>\n",
       "    <tr>\n",
       "      <th>2001-01-09</th>\n",
       "      <td>41170</td>\n",
       "      <td>Garfield-Dan Ryan</td>\n",
       "      <td>W</td>\n",
       "      <td>4511</td>\n",
       "    </tr>\n",
       "    <tr>\n",
       "      <th>2001-01-10</th>\n",
       "      <td>41170</td>\n",
       "      <td>Garfield-Dan Ryan</td>\n",
       "      <td>W</td>\n",
       "      <td>4317</td>\n",
       "    </tr>\n",
       "    <tr>\n",
       "      <th>2001-01-11</th>\n",
       "      <td>41170</td>\n",
       "      <td>Garfield-Dan Ryan</td>\n",
       "      <td>W</td>\n",
       "      <td>4753</td>\n",
       "    </tr>\n",
       "    <tr>\n",
       "      <th>2001-01-12</th>\n",
       "      <td>41170</td>\n",
       "      <td>Garfield-Dan Ryan</td>\n",
       "      <td>W</td>\n",
       "      <td>5094</td>\n",
       "    </tr>\n",
       "    <tr>\n",
       "      <th>2001-01-13</th>\n",
       "      <td>41170</td>\n",
       "      <td>Garfield-Dan Ryan</td>\n",
       "      <td>A</td>\n",
       "      <td>3179</td>\n",
       "    </tr>\n",
       "    <tr>\n",
       "      <th>2001-01-14</th>\n",
       "      <td>41170</td>\n",
       "      <td>Garfield-Dan Ryan</td>\n",
       "      <td>U</td>\n",
       "      <td>2053</td>\n",
       "    </tr>\n",
       "  </tbody>\n",
       "</table>\n",
       "</div>"
      ],
      "text/plain": [
       "            station_id        stationname daytype  rides\n",
       "date                                                    \n",
       "2001-01-01       41170  Garfield-Dan Ryan       U   1457\n",
       "2001-01-02       41170  Garfield-Dan Ryan       W   3748\n",
       "2001-01-03       41170  Garfield-Dan Ryan       W   3977\n",
       "2001-01-04       41170  Garfield-Dan Ryan       W   4185\n",
       "2001-01-05       41170  Garfield-Dan Ryan       W   4533\n",
       "2001-01-06       41170  Garfield-Dan Ryan       A   3341\n",
       "2001-01-07       41170  Garfield-Dan Ryan       U   1972\n",
       "2001-01-08       41170  Garfield-Dan Ryan       W   4590\n",
       "2001-01-09       41170  Garfield-Dan Ryan       W   4511\n",
       "2001-01-10       41170  Garfield-Dan Ryan       W   4317\n",
       "2001-01-11       41170  Garfield-Dan Ryan       W   4753\n",
       "2001-01-12       41170  Garfield-Dan Ryan       W   5094\n",
       "2001-01-13       41170  Garfield-Dan Ryan       A   3179\n",
       "2001-01-14       41170  Garfield-Dan Ryan       U   2053"
      ]
     },
     "execution_count": 48,
     "metadata": {},
     "output_type": "execute_result"
    }
   ],
   "source": [
    "garfield_red = rides_by_date[rides_by_date['stationname']=='Garfield-Dan Ryan']\n",
    "garfield_red.head(14)"
   ]
  },
  {
   "cell_type": "code",
   "execution_count": 49,
   "id": "31bb6594-b464-4aa3-9028-6d3c532c2b3d",
   "metadata": {},
   "outputs": [
    {
     "data": {
      "text/html": [
       "<div>\n",
       "<style scoped>\n",
       "    .dataframe tbody tr th:only-of-type {\n",
       "        vertical-align: middle;\n",
       "    }\n",
       "\n",
       "    .dataframe tbody tr th {\n",
       "        vertical-align: top;\n",
       "    }\n",
       "\n",
       "    .dataframe thead th {\n",
       "        text-align: right;\n",
       "    }\n",
       "</style>\n",
       "<table border=\"1\" class=\"dataframe\">\n",
       "  <thead>\n",
       "    <tr style=\"text-align: right;\">\n",
       "      <th></th>\n",
       "      <th>station_id</th>\n",
       "      <th>stationname</th>\n",
       "      <th>daytype</th>\n",
       "      <th>rides</th>\n",
       "    </tr>\n",
       "    <tr>\n",
       "      <th>date</th>\n",
       "      <th></th>\n",
       "      <th></th>\n",
       "      <th></th>\n",
       "      <th></th>\n",
       "    </tr>\n",
       "  </thead>\n",
       "  <tbody>\n",
       "    <tr>\n",
       "      <th>2001-01-01</th>\n",
       "      <td>40510</td>\n",
       "      <td>Garfield-South Elevated</td>\n",
       "      <td>U</td>\n",
       "      <td>248</td>\n",
       "    </tr>\n",
       "    <tr>\n",
       "      <th>2001-01-02</th>\n",
       "      <td>40510</td>\n",
       "      <td>Garfield-South Elevated</td>\n",
       "      <td>W</td>\n",
       "      <td>617</td>\n",
       "    </tr>\n",
       "    <tr>\n",
       "      <th>2001-01-03</th>\n",
       "      <td>40510</td>\n",
       "      <td>Garfield-South Elevated</td>\n",
       "      <td>W</td>\n",
       "      <td>657</td>\n",
       "    </tr>\n",
       "    <tr>\n",
       "      <th>2001-01-04</th>\n",
       "      <td>40510</td>\n",
       "      <td>Garfield-South Elevated</td>\n",
       "      <td>W</td>\n",
       "      <td>697</td>\n",
       "    </tr>\n",
       "    <tr>\n",
       "      <th>2001-01-05</th>\n",
       "      <td>40510</td>\n",
       "      <td>Garfield-South Elevated</td>\n",
       "      <td>W</td>\n",
       "      <td>770</td>\n",
       "    </tr>\n",
       "    <tr>\n",
       "      <th>2001-01-06</th>\n",
       "      <td>40510</td>\n",
       "      <td>Garfield-South Elevated</td>\n",
       "      <td>A</td>\n",
       "      <td>443</td>\n",
       "    </tr>\n",
       "    <tr>\n",
       "      <th>2001-01-07</th>\n",
       "      <td>40510</td>\n",
       "      <td>Garfield-South Elevated</td>\n",
       "      <td>U</td>\n",
       "      <td>295</td>\n",
       "    </tr>\n",
       "    <tr>\n",
       "      <th>2001-01-08</th>\n",
       "      <td>40510</td>\n",
       "      <td>Garfield-South Elevated</td>\n",
       "      <td>W</td>\n",
       "      <td>695</td>\n",
       "    </tr>\n",
       "    <tr>\n",
       "      <th>2001-01-09</th>\n",
       "      <td>40510</td>\n",
       "      <td>Garfield-South Elevated</td>\n",
       "      <td>W</td>\n",
       "      <td>696</td>\n",
       "    </tr>\n",
       "    <tr>\n",
       "      <th>2001-01-10</th>\n",
       "      <td>40510</td>\n",
       "      <td>Garfield-South Elevated</td>\n",
       "      <td>W</td>\n",
       "      <td>756</td>\n",
       "    </tr>\n",
       "    <tr>\n",
       "      <th>2001-01-11</th>\n",
       "      <td>40510</td>\n",
       "      <td>Garfield-South Elevated</td>\n",
       "      <td>W</td>\n",
       "      <td>736</td>\n",
       "    </tr>\n",
       "    <tr>\n",
       "      <th>2001-01-12</th>\n",
       "      <td>40510</td>\n",
       "      <td>Garfield-South Elevated</td>\n",
       "      <td>W</td>\n",
       "      <td>706</td>\n",
       "    </tr>\n",
       "    <tr>\n",
       "      <th>2001-01-13</th>\n",
       "      <td>40510</td>\n",
       "      <td>Garfield-South Elevated</td>\n",
       "      <td>A</td>\n",
       "      <td>522</td>\n",
       "    </tr>\n",
       "    <tr>\n",
       "      <th>2001-01-14</th>\n",
       "      <td>40510</td>\n",
       "      <td>Garfield-South Elevated</td>\n",
       "      <td>U</td>\n",
       "      <td>319</td>\n",
       "    </tr>\n",
       "  </tbody>\n",
       "</table>\n",
       "</div>"
      ],
      "text/plain": [
       "            station_id              stationname daytype  rides\n",
       "date                                                          \n",
       "2001-01-01       40510  Garfield-South Elevated       U    248\n",
       "2001-01-02       40510  Garfield-South Elevated       W    617\n",
       "2001-01-03       40510  Garfield-South Elevated       W    657\n",
       "2001-01-04       40510  Garfield-South Elevated       W    697\n",
       "2001-01-05       40510  Garfield-South Elevated       W    770\n",
       "2001-01-06       40510  Garfield-South Elevated       A    443\n",
       "2001-01-07       40510  Garfield-South Elevated       U    295\n",
       "2001-01-08       40510  Garfield-South Elevated       W    695\n",
       "2001-01-09       40510  Garfield-South Elevated       W    696\n",
       "2001-01-10       40510  Garfield-South Elevated       W    756\n",
       "2001-01-11       40510  Garfield-South Elevated       W    736\n",
       "2001-01-12       40510  Garfield-South Elevated       W    706\n",
       "2001-01-13       40510  Garfield-South Elevated       A    522\n",
       "2001-01-14       40510  Garfield-South Elevated       U    319"
      ]
     },
     "execution_count": 49,
     "metadata": {},
     "output_type": "execute_result"
    }
   ],
   "source": [
    "garfield_green = rides_by_date[rides_by_date['stationname']=='Garfield-South Elevated']\n",
    "garfield_green.head(14)"
   ]
  },
  {
   "cell_type": "markdown",
   "id": "85e71507-ec20-4aa1-8590-29b88e28050b",
   "metadata": {},
   "source": [
    "## Visualizing Timeseries Data"
   ]
  },
  {
   "cell_type": "code",
   "execution_count": 83,
   "id": "14017c05-3422-4f52-bfba-657921b8a053",
   "metadata": {},
   "outputs": [
    {
     "data": {
      "text/plain": [
       "<Axes: xlabel='date'>"
      ]
     },
     "execution_count": 83,
     "metadata": {},
     "output_type": "execute_result"
    }
   ],
   "source": [
    "import matplotlib.pyplot as plt\n",
    "import seaborn as sns\n",
    "\n",
    "%matplotlib inline\n",
    "\n",
    "\n",
    "sns.set(rc={'figure.figsize':(11, 4)})\n",
    "garfield_green['rides'].plot(linewidth=0.5)"
   ]
  },
  {
   "cell_type": "markdown",
   "id": "777c68bc-4b71-4bc3-b1ad-e9166a9ca804",
   "metadata": {},
   "source": [
    "Interesting!  You can see a jump in ridership at the Garfield Green Line ridership right at the same time there's a dip in the Garfield Red Line ridership. What happened?  Here's a clue: https://www.transitchicago.com/redsouth/"
   ]
  },
  {
   "cell_type": "markdown",
   "id": "72f12215-aac1-4a6d-a00f-5fe578d3002b",
   "metadata": {},
   "source": [
    "Let's now go back and see what happened to the Madison/Wabash station. And why there were so many zero values in the data."
   ]
  },
  {
   "cell_type": "code",
   "execution_count": 78,
   "id": "e306a6ab-c450-4adf-9cd0-b2a0173e1fdd",
   "metadata": {},
   "outputs": [
    {
     "data": {
      "text/plain": [
       "<Axes: xlabel='date'>"
      ]
     },
     "execution_count": 78,
     "metadata": {},
     "output_type": "execute_result"
    }
   ],
   "source": [
    "rides_by_date[rides_by_date['stationname']=='Madison/Wabash']['rides'].plot(linewidth=0.5)"
   ]
  },
  {
   "cell_type": "markdown",
   "id": "d09b2382-6b2c-4da8-8421-24244c8b6680",
   "metadata": {},
   "source": [
    "How do we know whether this is just a glitch in the dataset, or a real event? A little web searching can tell you a bit about this station. https://en.wikipedia.org/wiki/Madison/Wabash_station\n",
    "\n",
    "\"Madison/Wabash closed on March 16, 2015, after Sunday service in the Loop ceased for the night. The entrances were boarded up by morning-time, and trains started bypassing the station when Monday morning service started.\""
   ]
  },
  {
   "cell_type": "code",
   "execution_count": null,
   "id": "dcccb583-1054-4372-bab1-60ae7b3e0afc",
   "metadata": {},
   "outputs": [],
   "source": []
  }
 ],
 "metadata": {
  "kernelspec": {
   "display_name": "Python 3 (ipykernel)",
   "language": "python",
   "name": "python3"
  },
  "language_info": {
   "codemirror_mode": {
    "name": "ipython",
    "version": 3
   },
   "file_extension": ".py",
   "mimetype": "text/x-python",
   "name": "python",
   "nbconvert_exporter": "python",
   "pygments_lexer": "ipython3",
   "version": "3.12.7"
  }
 },
 "nbformat": 4,
 "nbformat_minor": 5
}
